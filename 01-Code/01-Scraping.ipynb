{
 "cells": [
  {
   "cell_type": "code",
   "execution_count": 1,
   "metadata": {},
   "outputs": [],
   "source": [
    "import bs4\n",
    "import urllib.request as url"
   ]
  },
  {
   "cell_type": "code",
   "execution_count": 3,
   "metadata": {},
   "outputs": [],
   "source": [
    "httpRes = url.urlopen('https://www.flipkart.com/search?q=iphone+x&sid=tyy%2C4io&as=on&as-show=on&otracker=AS_QueryStore_OrganicAutoSuggest_0_8&otracker1=AS_QueryStore_OrganicAutoSuggest_0_8&as-pos=0&as-type=RECENT&as-searchtext=iphone%20x')"
   ]
  },
  {
   "cell_type": "code",
   "execution_count": 4,
   "metadata": {},
   "outputs": [],
   "source": [
    "page = bs4.BeautifulSoup(httpRes)"
   ]
  },
  {
   "cell_type": "code",
   "execution_count": 6,
   "metadata": {},
   "outputs": [],
   "source": [
    "title = page.find('div', class_='_3wU53n')"
   ]
  },
  {
   "cell_type": "code",
   "execution_count": 7,
   "metadata": {},
   "outputs": [
    {
     "data": {
      "text/plain": [
       "'Apple iPhone X (Silver, 64 GB)'"
      ]
     },
     "execution_count": 7,
     "metadata": {},
     "output_type": "execute_result"
    }
   ],
   "source": [
    "title.text"
   ]
  },
  {
   "cell_type": "code",
   "execution_count": 8,
   "metadata": {},
   "outputs": [],
   "source": [
    "titles = page.find_all('div', class_='_3wU53n')"
   ]
  },
  {
   "cell_type": "code",
   "execution_count": 9,
   "metadata": {},
   "outputs": [
    {
     "data": {
      "text/plain": [
       "bs4.element.ResultSet"
      ]
     },
     "execution_count": 9,
     "metadata": {},
     "output_type": "execute_result"
    }
   ],
   "source": [
    "type(titles)"
   ]
  },
  {
   "cell_type": "code",
   "execution_count": 10,
   "metadata": {},
   "outputs": [
    {
     "name": "stdout",
     "output_type": "stream",
     "text": [
      "Apple iPhone X (Silver, 64 GB)\n",
      "Apple iPhone X (Space Gray, 64 GB)\n",
      "Apple iPhone X (Silver, 256 GB)\n",
      "Apple iPhone X (Space Gray, 256 GB)\n",
      "Apple iPhone 6s (Rose Gold, 32 GB)\n",
      "Apple iPhone 6s (Silver, 32 GB)\n",
      "Apple iPhone XR (Black, 128 GB)\n",
      "Apple iPhone XR ((PRODUCT)RED, 64 GB)\n",
      "Apple iPhone 6s (Gold, 32 GB)\n",
      "Apple iPhone 6s (Space Grey, 32 GB)\n",
      "Apple iPhone XR (Blue, 64 GB)\n",
      "Apple iPhone XR (White, 64 GB)\n",
      "Apple iPhone XR (Coral, 128 GB)\n",
      "Apple iPhone XR (Blue, 128 GB)\n",
      "Apple iPhone XR (White, 128 GB)\n",
      "Apple iPhone 7 (Rose Gold, 128 GB)\n",
      "Apple iPhone 6s Plus (Silver, 16 GB)\n",
      "Apple iPhone 7 (Silver, 32 GB)\n",
      "Apple iPhone 8 Plus (Space Grey, 64 GB)\n",
      "Apple iPhone 8 (PRODUCT)RED (Red, 64 GB)\n",
      "Apple iPhone XS (Space Grey, 512 GB)\n",
      "Apple iPhone 7 Plus (Rose Gold, 256 GB)\n",
      "Apple iPhone XR (Yellow, 256 GB)\n",
      "Apple iPhone 6 (Space Grey, 32 GB)\n"
     ]
    }
   ],
   "source": [
    "for item in titles:\n",
    "    print(item.text)"
   ]
  },
  {
   "cell_type": "code",
   "execution_count": 11,
   "metadata": {},
   "outputs": [],
   "source": [
    "prices = page.find_all('div', class_='_1vC4OE')"
   ]
  },
  {
   "cell_type": "code",
   "execution_count": 14,
   "metadata": {},
   "outputs": [
    {
     "name": "stdout",
     "output_type": "stream",
     "text": [
      "Apple iPhone X (Silver, 64 GB)\n",
      "₹66,499\n",
      "----------\n",
      "Apple iPhone X (Space Gray, 64 GB)\n",
      "₹66,499\n",
      "----------\n",
      "Apple iPhone X (Silver, 256 GB)\n",
      "₹79,999\n",
      "----------\n",
      "Apple iPhone X (Space Gray, 256 GB)\n",
      "₹77,975\n",
      "----------\n",
      "Apple iPhone 6s (Rose Gold, 32 GB)\n",
      "₹29,799\n",
      "----------\n",
      "Apple iPhone 6s (Silver, 32 GB)\n",
      "₹29,799\n",
      "----------\n",
      "Apple iPhone XR (Black, 128 GB)\n",
      "₹64,900\n",
      "----------\n",
      "Apple iPhone XR ((PRODUCT)RED, 64 GB)\n",
      "₹59,900\n",
      "----------\n",
      "Apple iPhone 6s (Gold, 32 GB)\n",
      "₹29,799\n",
      "----------\n",
      "Apple iPhone 6s (Space Grey, 32 GB)\n",
      "₹29,590\n",
      "----------\n",
      "Apple iPhone XR (Blue, 64 GB)\n",
      "₹59,900\n",
      "----------\n",
      "Apple iPhone XR (White, 64 GB)\n",
      "₹59,900\n",
      "----------\n",
      "Apple iPhone XR (Coral, 128 GB)\n",
      "₹64,900\n",
      "----------\n",
      "Apple iPhone XR (Blue, 128 GB)\n",
      "₹64,900\n",
      "----------\n",
      "Apple iPhone XR (White, 128 GB)\n",
      "₹64,490\n",
      "----------\n",
      "Apple iPhone 7 (Rose Gold, 128 GB)\n",
      "₹52,990\n",
      "----------\n",
      "Apple iPhone 6s Plus (Silver, 16 GB)\n",
      "₹39,990\n",
      "----------\n",
      "Apple iPhone 7 (Silver, 32 GB)\n",
      "₹39,900\n",
      "----------\n",
      "Apple iPhone 8 Plus (Space Grey, 64 GB)\n",
      "₹62,899\n",
      "----------\n",
      "Apple iPhone 8 (PRODUCT)RED (Red, 64 GB)\n",
      "₹54,999\n",
      "----------\n",
      "Apple iPhone XS (Space Grey, 512 GB)\n",
      "₹1,34,900\n",
      "----------\n",
      "Apple iPhone 7 Plus (Rose Gold, 256 GB)\n",
      "₹62,900\n",
      "----------\n",
      "Apple iPhone XR (Yellow, 256 GB)\n",
      "₹74,900\n",
      "----------\n",
      "Apple iPhone 6 (Space Grey, 32 GB)\n",
      "₹27,899\n",
      "----------\n"
     ]
    }
   ],
   "source": [
    "for t, p in zip(titles, prices):\n",
    "    print(t.text)\n",
    "    print(p.text)\n",
    "    print(\"----------\")"
   ]
  },
  {
   "cell_type": "code",
   "execution_count": null,
   "metadata": {},
   "outputs": [],
   "source": []
  }
 ],
 "metadata": {
  "kernelspec": {
   "display_name": "Python 3",
   "language": "python",
   "name": "python3"
  },
  "language_info": {
   "codemirror_mode": {
    "name": "ipython",
    "version": 3
   },
   "file_extension": ".py",
   "mimetype": "text/x-python",
   "name": "python",
   "nbconvert_exporter": "python",
   "pygments_lexer": "ipython3",
   "version": "3.7.3"
  }
 },
 "nbformat": 4,
 "nbformat_minor": 2
}
