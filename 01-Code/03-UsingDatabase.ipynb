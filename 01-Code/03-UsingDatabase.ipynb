{
 "cells": [
  {
   "cell_type": "code",
   "execution_count": 1,
   "metadata": {},
   "outputs": [],
   "source": [
    "import pymysql\n",
    "import pandas as pd"
   ]
  },
  {
   "cell_type": "markdown",
   "metadata": {},
   "source": [
    "# Reading data from Database"
   ]
  },
  {
   "cell_type": "code",
   "execution_count": 2,
   "metadata": {},
   "outputs": [],
   "source": [
    "connection = pymysql.connect(host='localhost', port=3306,user='root',\n",
    "                            database='onlineshopping',autocommit=True)"
   ]
  },
  {
   "cell_type": "code",
   "execution_count": 3,
   "metadata": {},
   "outputs": [],
   "source": [
    "query = \"select * from products\"\n",
    "df = pd.read_sql(query, connection)"
   ]
  },
  {
   "cell_type": "code",
   "execution_count": 4,
   "metadata": {},
   "outputs": [
    {
     "data": {
      "text/html": [
       "<div>\n",
       "<style scoped>\n",
       "    .dataframe tbody tr th:only-of-type {\n",
       "        vertical-align: middle;\n",
       "    }\n",
       "\n",
       "    .dataframe tbody tr th {\n",
       "        vertical-align: top;\n",
       "    }\n",
       "\n",
       "    .dataframe thead th {\n",
       "        text-align: right;\n",
       "    }\n",
       "</style>\n",
       "<table border=\"1\" class=\"dataframe\">\n",
       "  <thead>\n",
       "    <tr style=\"text-align: right;\">\n",
       "      <th></th>\n",
       "      <th>p_id</th>\n",
       "      <th>p_name</th>\n",
       "      <th>p_price</th>\n",
       "      <th>p_image</th>\n",
       "      <th>p_category</th>\n",
       "      <th>p_brand</th>\n",
       "    </tr>\n",
       "  </thead>\n",
       "  <tbody>\n",
       "    <tr>\n",
       "      <th>0</th>\n",
       "      <td>101</td>\n",
       "      <td>Apple Iphone X</td>\n",
       "      <td>80000</td>\n",
       "      <td>https://www.yaphone.com/1469-tm_large_default/...</td>\n",
       "      <td>mobile</td>\n",
       "      <td>Apple</td>\n",
       "    </tr>\n",
       "    <tr>\n",
       "      <th>1</th>\n",
       "      <td>102</td>\n",
       "      <td>Apple Iphone XS</td>\n",
       "      <td>90000</td>\n",
       "      <td>https://static.toiimg.com/photo/65786818/Apple...</td>\n",
       "      <td>mobile</td>\n",
       "      <td>Apple</td>\n",
       "    </tr>\n",
       "    <tr>\n",
       "      <th>2</th>\n",
       "      <td>103</td>\n",
       "      <td>JBL Headphones</td>\n",
       "      <td>3000</td>\n",
       "      <td>http://assets.myntassets.com/assets/images/782...</td>\n",
       "      <td>headphones</td>\n",
       "      <td>JBL</td>\n",
       "    </tr>\n",
       "    <tr>\n",
       "      <th>3</th>\n",
       "      <td>104</td>\n",
       "      <td>Adidas Shoes</td>\n",
       "      <td>2500</td>\n",
       "      <td>https://assets.adidas.com/images/w_600,f_auto,...</td>\n",
       "      <td>shoes</td>\n",
       "      <td>Adidas</td>\n",
       "    </tr>\n",
       "    <tr>\n",
       "      <th>4</th>\n",
       "      <td>105</td>\n",
       "      <td>Mi LED Smart TV</td>\n",
       "      <td>12999</td>\n",
       "      <td>https://rukminim1.flixcart.com/image/832/832/j...</td>\n",
       "      <td>TV</td>\n",
       "      <td>Mi</td>\n",
       "    </tr>\n",
       "  </tbody>\n",
       "</table>\n",
       "</div>"
      ],
      "text/plain": [
       "   p_id           p_name  p_price  \\\n",
       "0   101   Apple Iphone X    80000   \n",
       "1   102  Apple Iphone XS    90000   \n",
       "2   103   JBL Headphones     3000   \n",
       "3   104     Adidas Shoes     2500   \n",
       "4   105  Mi LED Smart TV    12999   \n",
       "\n",
       "                                             p_image  p_category p_brand  \n",
       "0  https://www.yaphone.com/1469-tm_large_default/...      mobile   Apple  \n",
       "1  https://static.toiimg.com/photo/65786818/Apple...      mobile   Apple  \n",
       "2  http://assets.myntassets.com/assets/images/782...  headphones     JBL  \n",
       "3  https://assets.adidas.com/images/w_600,f_auto,...       shoes  Adidas  \n",
       "4  https://rukminim1.flixcart.com/image/832/832/j...          TV      Mi  "
      ]
     },
     "execution_count": 4,
     "metadata": {},
     "output_type": "execute_result"
    }
   ],
   "source": [
    "df"
   ]
  },
  {
   "cell_type": "code",
   "execution_count": null,
   "metadata": {},
   "outputs": [],
   "source": []
  }
 ],
 "metadata": {
  "kernelspec": {
   "display_name": "Python 3",
   "language": "python",
   "name": "python3"
  },
  "language_info": {
   "codemirror_mode": {
    "name": "ipython",
    "version": 3
   },
   "file_extension": ".py",
   "mimetype": "text/x-python",
   "name": "python",
   "nbconvert_exporter": "python",
   "pygments_lexer": "ipython3",
   "version": "3.7.3"
  }
 },
 "nbformat": 4,
 "nbformat_minor": 2
}
