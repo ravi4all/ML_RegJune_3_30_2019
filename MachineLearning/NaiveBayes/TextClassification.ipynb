{
 "cells": [
  {
   "cell_type": "code",
   "execution_count": 30,
   "metadata": {},
   "outputs": [],
   "source": [
    "from sklearn.datasets import fetch_20newsgroups\n",
    "from sklearn.feature_extraction.text import CountVectorizer\n",
    "from sklearn.metrics import accuracy_score\n",
    "from sklearn.naive_bayes import GaussianNB"
   ]
  },
  {
   "cell_type": "code",
   "execution_count": 31,
   "metadata": {},
   "outputs": [],
   "source": [
    "cat = {\n",
    "    'alt.atheism' : \"Atheism\",\n",
    "    'comp.graphics' : \"Graphics\",\n",
    "    'rec.autos' : \"Autos\",\n",
    "    'rec.sport.hockey' : \"Hockey\",\n",
    "    'sci.electronics' : \"Electronics\",\n",
    "    'sci.med' : \"Medical\",\n",
    "    'sci.space' : \"Space\",\n",
    "    'soc.religion.christian' : \"Christian\",\n",
    "    'talk.politics.guns' : \"Guns\",\n",
    "    'talk.religion.misc' : \"Religion\"\n",
    "}\n",
    "trainData = fetch_20newsgroups(subset='train',categories=cat)\n",
    "testData = fetch_20newsgroups(subset='test', categories=cat)"
   ]
  },
  {
   "cell_type": "code",
   "execution_count": 49,
   "metadata": {},
   "outputs": [],
   "source": [
    "x_train = trainData.data"
   ]
  },
  {
   "cell_type": "code",
   "execution_count": 50,
   "metadata": {},
   "outputs": [],
   "source": [
    "y_train = trainData.target"
   ]
  },
  {
   "cell_type": "code",
   "execution_count": 51,
   "metadata": {},
   "outputs": [],
   "source": [
    "x_test = testData.data\n",
    "y_test = testData.target"
   ]
  },
  {
   "cell_type": "code",
   "execution_count": 52,
   "metadata": {},
   "outputs": [
    {
     "data": {
      "text/plain": [
       "\"From: tmc@spartan.ac.BrockU.CA (Tim Ciceran)\\nSubject: Re: Turning photographic images into thermal print and/or negatives\\nOrganization: Brock University, St. Catharines Ontario\\nX-Newsreader: TIN [version 1.1 PL9]\\nLines: 22\\n\\nJennifer Lynn Urso (ju23+@andrew.cmu.edu) wrote:\\n:  \\n: well, i have lots of experience with scanning in images and altering\\n: them.  as for changing them back into negatives, is that really possible?\\n\\n: (stuff deleted)\\n\\n: jennifer urso:  the oh-so bitter woman of utter blahness(but cheerful\\n: undertones)\\n\\nI use Aldus Photostyler on the PC and I can turn a colour or black and white\\nimage into a negative or turn a negative into a colour or black and white\\nimage.  I don't know how it does it but it works well.  To test it I scanned\\na negative and used Aldus to create a positive.  It looked better than the\\nprint that the film developers gave me.\\n\\n\\n-- \\n\\nTMC\\n(tmc@spartan.ac.BrockU.ca)\\n\\n\""
      ]
     },
     "execution_count": 52,
     "metadata": {},
     "output_type": "execute_result"
    }
   ],
   "source": [
    "x_test[0]"
   ]
  },
  {
   "cell_type": "code",
   "execution_count": 53,
   "metadata": {},
   "outputs": [
    {
     "data": {
      "text/plain": [
       "1"
      ]
     },
     "execution_count": 53,
     "metadata": {},
     "output_type": "execute_result"
    }
   ],
   "source": [
    "y_test[0]"
   ]
  },
  {
   "cell_type": "code",
   "execution_count": 54,
   "metadata": {},
   "outputs": [
    {
     "data": {
      "text/plain": [
       "'alt.atheism'"
      ]
     },
     "execution_count": 54,
     "metadata": {},
     "output_type": "execute_result"
    }
   ],
   "source": [
    "testData.target_names[0]"
   ]
  },
  {
   "cell_type": "code",
   "execution_count": 55,
   "metadata": {},
   "outputs": [],
   "source": [
    "cv = CountVectorizer()"
   ]
  },
  {
   "cell_type": "code",
   "execution_count": 56,
   "metadata": {},
   "outputs": [],
   "source": [
    "x_train = cv.fit_transform(x_train)\n",
    "x_test = cv.transform(x_test)"
   ]
  },
  {
   "cell_type": "code",
   "execution_count": 57,
   "metadata": {},
   "outputs": [],
   "source": [
    "x_train = x_train.toarray()\n",
    "x_test = x_test.toarray()"
   ]
  },
  {
   "cell_type": "code",
   "execution_count": 58,
   "metadata": {},
   "outputs": [
    {
     "data": {
      "text/plain": [
       "(3699,)"
      ]
     },
     "execution_count": 58,
     "metadata": {},
     "output_type": "execute_result"
    }
   ],
   "source": [
    "# x_test.shape\n",
    "y_test.shape"
   ]
  },
  {
   "cell_type": "code",
   "execution_count": 59,
   "metadata": {},
   "outputs": [],
   "source": [
    "nb = GaussianNB()"
   ]
  },
  {
   "cell_type": "code",
   "execution_count": 60,
   "metadata": {},
   "outputs": [
    {
     "data": {
      "text/plain": [
       "GaussianNB(priors=None, var_smoothing=1e-09)"
      ]
     },
     "execution_count": 60,
     "metadata": {},
     "output_type": "execute_result"
    }
   ],
   "source": [
    "nb.fit(x_train, y_train)"
   ]
  },
  {
   "cell_type": "code",
   "execution_count": 61,
   "metadata": {},
   "outputs": [
    {
     "data": {
      "text/plain": [
       "0.809948634766153"
      ]
     },
     "execution_count": 61,
     "metadata": {},
     "output_type": "execute_result"
    }
   ],
   "source": [
    "y_pred = nb.predict(x_test)\n",
    "accuracy_score(y_test, y_pred)"
   ]
  },
  {
   "cell_type": "code",
   "execution_count": 64,
   "metadata": {},
   "outputs": [],
   "source": [
    "input_data = [\"Royal Enfield has started rolling out software updates for the Interceptor 650 as well as the Continental GT. This comes in after some owners reported that they were facing stalling issues while riding the bike in high-altitude regions. Owners can visit any authorised dealership to get this software installed for free. On a side note, depending on the city, the waiting period for the Interceptor 650 has gone down to two-four months in the month of June 2019. Royal Enfield is working on new accessories for the Interceptor. They Include a pair of auxiliary fog lamps and alloy wheels. The Interceptor is currently available with 29 accessories. Launched at a starting price of Rs 2.5 lakh (ex-showroom), the Interceptor 650 competes with the Harley-Davidson Street 750 and Kawasaki Z650 in the Indian market. The Interceptor is also Royal Enfield’s first modern big bike, apart from the Continental GT 650. The Interceptor is the most affordable middleweight multi-cylinder motorcycle currently in India. The engine produces 47.6PS and 53Nm, mating with a 6-speed slip-assist gearbox. It comes with standard dual-channel ABS too.\",\n",
    "             \"NASA has conducted many manned and unmanned spaceflight programs throughout its history. Unmanned programs launched the first American artificial satellites into Earth orbit for scientific and communications purposes, and sent scientific probes to explore the planets of the solar system, starting with Venus and Mars, and including grand tours of the outer planets. Manned programs sent the first Americans into low Earth orbit (LEO), won the Space Race with the Soviet Union by landing twelve men on the Moon from 1969 to 1972 in the Apollo program, developed a semi-reusable LEO Space Shuttle, and developed LEO space station capability by itself and with the cooperation of several other nations including post-Soviet Russia. Some missions include both manned and unmanned aspects, such as the Galileo probe, which was deployed by astronauts in Earth orbit before being sent unmanned to Jupiter.\"]"
   ]
  },
  {
   "cell_type": "code",
   "execution_count": 65,
   "metadata": {},
   "outputs": [],
   "source": [
    "vect = cv.transform(input_data)"
   ]
  },
  {
   "cell_type": "code",
   "execution_count": 67,
   "metadata": {},
   "outputs": [],
   "source": [
    "vect = vect.toarray()\n",
    "predictions = nb.predict(vect)"
   ]
  },
  {
   "cell_type": "code",
   "execution_count": 68,
   "metadata": {},
   "outputs": [
    {
     "data": {
      "text/plain": [
       "array([2, 6], dtype=int64)"
      ]
     },
     "execution_count": 68,
     "metadata": {},
     "output_type": "execute_result"
    }
   ],
   "source": [
    "predictions"
   ]
  },
  {
   "cell_type": "code",
   "execution_count": 70,
   "metadata": {},
   "outputs": [
    {
     "data": {
      "text/plain": [
       "('rec.autos', 'sci.space')"
      ]
     },
     "execution_count": 70,
     "metadata": {},
     "output_type": "execute_result"
    }
   ],
   "source": [
    "trainData.target_names[2],trainData.target_names[6]"
   ]
  },
  {
   "cell_type": "code",
   "execution_count": 72,
   "metadata": {},
   "outputs": [
    {
     "data": {
      "text/plain": [
       "'Autos'"
      ]
     },
     "execution_count": 72,
     "metadata": {},
     "output_type": "execute_result"
    }
   ],
   "source": [
    "cat[trainData.target_names[2]]"
   ]
  },
  {
   "cell_type": "code",
   "execution_count": 74,
   "metadata": {},
   "outputs": [
    {
     "name": "stdout",
     "output_type": "stream",
     "text": [
      "Topic : Autos\n",
      "Article : Royal Enfield has started rolling out software updates for the Interceptor 650 as well as the Continental GT. This comes in after some owners reported that they were facing stalling issues while riding the bike in high-altitude regions. Owners can visit any authorised dealership to get this software installed for free. On a side note, depending on the city, the waiting period for the Interceptor 650 has gone down to two-four months in the month of June 2019. Royal Enfield is working on new accessories for the Interceptor. They Include a pair of auxiliary fog lamps and alloy wheels. The Interceptor is currently available with 29 accessories. Launched at a starting price of Rs 2.5 lakh (ex-showroom), the Interceptor 650 competes with the Harley-Davidson Street 750 and Kawasaki Z650 in the Indian market. The Interceptor is also Royal Enfield’s first modern big bike, apart from the Continental GT 650. The Interceptor is the most affordable middleweight multi-cylinder motorcycle currently in India. The engine produces 47.6PS and 53Nm, mating with a 6-speed slip-assist gearbox. It comes with standard dual-channel ABS too.\n",
      "--------------------------------\n",
      "Topic : Space\n",
      "Article : NASA has conducted many manned and unmanned spaceflight programs throughout its history. Unmanned programs launched the first American artificial satellites into Earth orbit for scientific and communications purposes, and sent scientific probes to explore the planets of the solar system, starting with Venus and Mars, and including grand tours of the outer planets. Manned programs sent the first Americans into low Earth orbit (LEO), won the Space Race with the Soviet Union by landing twelve men on the Moon from 1969 to 1972 in the Apollo program, developed a semi-reusable LEO Space Shuttle, and developed LEO space station capability by itself and with the cooperation of several other nations including post-Soviet Russia. Some missions include both manned and unmanned aspects, such as the Galileo probe, which was deployed by astronauts in Earth orbit before being sent unmanned to Jupiter.\n",
      "--------------------------------\n"
     ]
    }
   ],
   "source": [
    "for pred,rev in zip(predictions, input_data):\n",
    "    print(\"Topic :\",cat[trainData.target_names[pred]])\n",
    "    print(\"Article :\",rev)\n",
    "    print(\"--------------------------------\")"
   ]
  },
  {
   "cell_type": "code",
   "execution_count": null,
   "metadata": {},
   "outputs": [],
   "source": []
  }
 ],
 "metadata": {
  "kernelspec": {
   "display_name": "Python 3",
   "language": "python",
   "name": "python3"
  },
  "language_info": {
   "codemirror_mode": {
    "name": "ipython",
    "version": 3
   },
   "file_extension": ".py",
   "mimetype": "text/x-python",
   "name": "python",
   "nbconvert_exporter": "python",
   "pygments_lexer": "ipython3",
   "version": "3.7.3"
  }
 },
 "nbformat": 4,
 "nbformat_minor": 2
}
